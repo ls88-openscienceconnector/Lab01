{
 "cells": [
  {
   "cell_type": "markdown",
   "metadata": {},
   "source": [
    "*** This is a notebook for motivating markdown code annotation ***\n"
   ]
  },
  {
   "cell_type": "markdown",
   "metadata": {},
   "source": [
    "**Part 1: Analyze + document**\n",
    "Complete the following task and write instructions / documentation for your collaborator to reproduce your work starting with the original dataset (data/gapminder-5060.csv)."
   ]
  },
  {
   "cell_type": "code",
   "execution_count": 1,
   "metadata": {},
   "outputs": [],
   "source": [
    "from datascience import *\n",
    "%matplotlib inline"
   ]
  },
  {
   "cell_type": "code",
   "execution_count": 2,
   "metadata": {},
   "outputs": [],
   "source": [
    "AllCountries = Table.read_table('https://raw.githubusercontent.com/Reproducible-Science-Curriculum/cbb-retreat/master/material/data/gapminder-5060.csv')"
   ]
  },
  {
   "cell_type": "code",
   "execution_count": 3,
   "metadata": {},
   "outputs": [
    {
     "data": {
      "text/html": [
       "<table border=\"1\" class=\"dataframe\">\n",
       "    <thead>\n",
       "        <tr>\n",
       "            <th>country</th> <th>continent</th> <th>year</th> <th>lifeExp</th> <th>pop</th> <th>gdpPercap</th>\n",
       "        </tr>\n",
       "    </thead>\n",
       "    <tbody>\n",
       "        <tr>\n",
       "            <td>Afghanistan</td> <td>Asia     </td> <td>1952</td> <td>28.801 </td> <td>8.42533e+06</td> <td>779.445  </td>\n",
       "        </tr>\n",
       "        <tr>\n",
       "            <td>Afghanistan</td> <td>Asia     </td> <td>1957</td> <td>30.332 </td> <td>9.24093e+06</td> <td>820.853  </td>\n",
       "        </tr>\n",
       "        <tr>\n",
       "            <td>Afghanistan</td> <td>Asia     </td> <td>1962</td> <td>31.997 </td> <td>1.02671e+07</td> <td>853.101  </td>\n",
       "        </tr>\n",
       "        <tr>\n",
       "            <td>Afghanistan</td> <td>Asia     </td> <td>1967</td> <td>34.02  </td> <td>1.1538e+07 </td> <td>836.197  </td>\n",
       "        </tr>\n",
       "        <tr>\n",
       "            <td>Albania    </td> <td>Europe   </td> <td>1952</td> <td>55.23  </td> <td>1.2827e+06 </td> <td>1601.06  </td>\n",
       "        </tr>\n",
       "        <tr>\n",
       "            <td>Albania    </td> <td>Europe   </td> <td>1957</td> <td>59.28  </td> <td>1.47650e+06</td> <td>1942.28  </td>\n",
       "        </tr>\n",
       "        <tr>\n",
       "            <td>Albania    </td> <td>Europe   </td> <td>1962</td> <td>64.82  </td> <td>1.72814e+06</td> <td>2312.89  </td>\n",
       "        </tr>\n",
       "        <tr>\n",
       "            <td>Albania    </td> <td>Europe   </td> <td>1967</td> <td>66.22  </td> <td>1.98406e+06</td> <td>2760.2   </td>\n",
       "        </tr>\n",
       "        <tr>\n",
       "            <td>Algeria    </td> <td>Africa   </td> <td>1952</td> <td>43.077 </td> <td>9.27952e+06</td> <td>2449.01  </td>\n",
       "        </tr>\n",
       "        <tr>\n",
       "            <td>Algeria    </td> <td>Africa   </td> <td>1957</td> <td>45.685 </td> <td>1.02709e+07</td> <td>3013.98  </td>\n",
       "        </tr>\n",
       "    </tbody>\n",
       "</table>\n",
       "<p>... (558 rows omitted)</p>"
      ],
      "text/plain": [
       "country     | continent | year | lifeExp | pop         | gdpPercap\n",
       "Afghanistan | Asia      | 1952 | 28.801  | 8.42533e+06 | 779.445\n",
       "Afghanistan | Asia      | 1957 | 30.332  | 9.24093e+06 | 820.853\n",
       "Afghanistan | Asia      | 1962 | 31.997  | 1.02671e+07 | 853.101\n",
       "Afghanistan | Asia      | 1967 | 34.02   | 1.1538e+07  | 836.197\n",
       "Albania     | Europe    | 1952 | 55.23   | 1.2827e+06  | 1601.06\n",
       "Albania     | Europe    | 1957 | 59.28   | 1.47650e+06 | 1942.28\n",
       "Albania     | Europe    | 1962 | 64.82   | 1.72814e+06 | 2312.89\n",
       "Albania     | Europe    | 1967 | 66.22   | 1.98406e+06 | 2760.2\n",
       "Algeria     | Africa    | 1952 | 43.077  | 9.27952e+06 | 2449.01\n",
       "Algeria     | Africa    | 1957 | 45.685  | 1.02709e+07 | 3013.98\n",
       "... (558 rows omitted)"
      ]
     },
     "execution_count": 3,
     "metadata": {},
     "output_type": "execute_result"
    }
   ],
   "source": [
    "AllCountries"
   ]
  },
  {
   "cell_type": "code",
   "execution_count": 4,
   "metadata": {},
   "outputs": [],
   "source": [
    "Canada=AllCountries.where('country','Canada')"
   ]
  },
  {
   "cell_type": "markdown",
   "metadata": {},
   "source": [
    "Visualize life expectancy over time for Canadians in the 1950s and 1960s using a line plot."
   ]
  },
  {
   "cell_type": "code",
   "execution_count": 5,
   "metadata": {},
   "outputs": [
    {
     "data": {
      "image/png": "[encoded data removed]",
      "text/plain": [
       "<Figure size 360x360 with 1 Axes>"
      ]
     },
     "metadata": {
      "needs_background": "light"
     },
     "output_type": "display_data"
    }
   ],
   "source": [
    "Canada.scatter('year','lifeExp')"
   ]
  },
  {
   "cell_type": "markdown",
   "metadata": {},
   "source": [
    "Something should be clearly wrong with your plot, figure out (and document) what this is and come up with a fix\n"
   ]
  },
  {
   "cell_type": "code",
   "execution_count": 10,
   "metadata": {},
   "outputs": [
    {
     "data": {
      "text/html": [
       "<table border=\"1\" class=\"dataframe\">\n",
       "    <thead>\n",
       "        <tr>\n",
       "            <th>country</th> <th>continent</th> <th>year</th> <th>lifeExp</th> <th>pop</th> <th>gdpPercap</th>\n",
       "        </tr>\n",
       "    </thead>\n",
       "    <tbody>\n",
       "        <tr>\n",
       "            <td>Canada </td> <td>Americas </td> <td>1952</td> <td>68.75  </td> <td>1.47856e+07</td> <td>11367.2  </td>\n",
       "        </tr>\n",
       "        <tr>\n",
       "            <td>Canada </td> <td>Americas </td> <td>1957</td> <td>999999 </td> <td>1.70102e+07</td> <td>12490    </td>\n",
       "        </tr>\n",
       "        <tr>\n",
       "            <td>Canada </td> <td>Americas </td> <td>1962</td> <td>71.3   </td> <td>1.89858e+07</td> <td>13462.5  </td>\n",
       "        </tr>\n",
       "        <tr>\n",
       "            <td>Canada </td> <td>Americas </td> <td>1967</td> <td>72.13  </td> <td>2.08198e+07</td> <td>16076.6  </td>\n",
       "        </tr>\n",
       "    </tbody>\n",
       "</table>"
      ],
      "text/plain": [
       "country | continent | year | lifeExp | pop         | gdpPercap\n",
       "Canada  | Americas  | 1952 | 68.75   | 1.47856e+07 | 11367.2\n",
       "Canada  | Americas  | 1957 | 999999  | 1.70102e+07 | 12490\n",
       "Canada  | Americas  | 1962 | 71.3    | 1.89858e+07 | 13462.5\n",
       "Canada  | Americas  | 1967 | 72.13   | 2.08198e+07 | 16076.6"
      ]
     },
     "execution_count": 10,
     "metadata": {},
     "output_type": "execute_result"
    }
   ],
   "source": [
    "Canada"
   ]
  },
  {
   "cell_type": "code",
   "execution_count": 12,
   "metadata": {
    "scrolled": true
   },
   "outputs": [
    {
     "data": {
      "image/png": "[encoded data removed]",
      "text/plain": [
       "<Figure size 360x360 with 1 Axes>"
      ]
     },
     "metadata": {
      "needs_background": "light"
     },
     "output_type": "display_data"
    }
   ],
   "source": [
    "Canada.where('lifeExp', are.below(200)).scatter('year', 'lifeExp')"
   ]
  },
  {
   "cell_type": "code",
   "execution_count": null,
   "metadata": {},
   "outputs": [],
   "source": []
  },
  {
   "cell_type": "markdown",
   "metadata": {},
   "source": [
    "With the revised data, visualize life expectancy over time for Canadians again.\n"
   ]
  },
  {
   "cell_type": "code",
   "execution_count": null,
   "metadata": {},
   "outputs": [],
   "source": []
  },
  {
   "cell_type": "code",
   "execution_count": null,
   "metadata": {},
   "outputs": [],
   "source": []
  },
  {
   "cell_type": "markdown",
   "metadata": {},
   "source": [
    "Stretch goal: Add additional lines for the life expectancy of Mexician and Americans as well."
   ]
  },
  {
   "cell_type": "code",
   "execution_count": null,
   "metadata": {},
   "outputs": [],
   "source": []
  },
  {
   "cell_type": "code",
   "execution_count": null,
   "metadata": {},
   "outputs": [],
   "source": []
  },
  {
   "cell_type": "markdown",
   "metadata": {},
   "source": [
    "Part 2: Swap + discuss\n",
    "Introduce yourself to your collaborator (neighbor).\n",
    "\n",
    "Swap instructions / documentation with your collaborator. As you read it over think about how you would attempt to reproduce their work.\n",
    "\n",
    "If your collaborator/neighbor does not have or is unfamiliar with the software you used we encourage you to given them a brief explination of what it is and why you chose it. (Remember, this could be part of the irreproducibility problem!)\n",
    "\n",
    "Then, talk to each other about challenges you faced (or didn't face) or why you were or weren't able to reproduce their work."
   ]
  },
  {
   "cell_type": "code",
   "execution_count": null,
   "metadata": {},
   "outputs": [],
   "source": []
  }
 ],
 "metadata": {
  "kernelspec": {
   "display_name": "Python 3",
   "language": "python",
   "name": "python3"
  },
  "language_info": {
   "codemirror_mode": {
    "name": "ipython",
    "version": 3
   },
   "file_extension": ".py",
   "mimetype": "text/x-python",
   "name": "python",
   "nbconvert_exporter": "python",
   "pygments_lexer": "ipython3",
   "version": "3.6.7"
  }
 },
 "nbformat": 4,
 "nbformat_minor": 2
}
